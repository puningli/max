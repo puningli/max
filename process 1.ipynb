{
 "cells": [
  {
   "cell_type": "markdown",
   "id": "93636d4b-060e-4ac3-a029-8bd8bc3c5dbf",
   "metadata": {},
   "source": [
    "                                                Can Played Time Predict Game Experience Level?  Can Played Time Predict Game Experience Level?"
   ]
  },
  {
   "cell_type": "markdown",
   "id": "2204ca1f-b187-40c6-bc7c-46f70ed2a70a",
   "metadata": {},
   "source": [
    "Researchers at the University of British Columbia collected data from players participating in controlled game environments such as Minecraft. My project explores whether the time spent playing a game can be used as a reliable indicator of a player's self-reported experience level.\n",
    "This study aims to answer the question: Can played hours predict a player's experience level in a video game dataset? Specifically, we investigate whether the explanatory variable played_hours can be used to predict the response variable experience, which classifies players into one of five skill levels: Beginner, Amateur, Regular, Veteran, and Pro.\n",
    "The dataset used in this analysis contains 196 observations and 7 variables, each representing an individual player. The key variables include played_hours, a numeric value indicating the total number of hours a player has spent in the game (ranging from 0 to 223.1 with a mean of 5.85 and a highly skewed distribution), and experience, an ordinal variable describing the player’s self-reported skill level with five possible categories. Additional variables include subscribe (a boolean indicating subscription status), hashedEmail (an identifier), name (first name), gender, and Age. Most variables are complete, though the Age column has two missing values. The played_hours data shows a high concentration of low values (50% of players have less than 0.1 hours), and some outliers with extremely high hours, which could influence model performance. The experience variable is unevenly distributed, with “Amateur” being the most common level. The data appears to have been collected via user registration and gameplay logs, and while self-reported experience offers useful insight, it may also introduce subjective bias."
   ]
  },
  {
   "cell_type": "code",
   "execution_count": null,
   "id": "af0bbf98-a6f4-4da6-a3da-42b58646dd14",
   "metadata": {},
   "outputs": [],
   "source": []
  }
 ],
 "metadata": {
  "kernelspec": {
   "display_name": "R",
   "language": "R",
   "name": "ir"
  },
  "language_info": {
   "codemirror_mode": "r",
   "file_extension": ".r",
   "mimetype": "text/x-r-source",
   "name": "R",
   "pygments_lexer": "r",
   "version": "4.3.3"
  }
 },
 "nbformat": 4,
 "nbformat_minor": 5
}
