{
 "cells": [
  {
   "cell_type": "markdown",
   "id": "42de1327-96b3-4d2a-a771-88177608c83e",
   "metadata": {},
   "source": [
    "                                                               Can Played Time Predict Game Experience Level?"
   ]
  },
  {
   "cell_type": "markdown",
   "id": "078e5d26-c80b-4fe0-83ac-7528aa0969e8",
   "metadata": {},
   "source": [
    "Researchers at the University of British Columbia collected data from players participating in controlled game environments such as Minecraft. My project explores whether the time spent playing a game can be used as a reliable indicator of a player's self-reported experience level.\n",
    "This study aims to answer the question: Can played hours predict a player's experience level in a video game dataset? Specifically, we investigate whether the explanatory variable played_hours can be used to predict the response variable experience, which classifies players into one of five skill levels: Beginner, Amateur, Regular, Veteran, and Pro.\n",
    "The dataset used in this analysis contains 196 observations and 7 variables, each representing an individual player. The key variables include played_hours, a numeric value indicating the total number of hours a player has spent in the game (ranging from 0 to 223.1 with a mean of 5.85 and a highly skewed distribution), and experience, an ordinal variable describing the player’s self-reported skill level with five possible categories. Additional variables include subscribe (a boolean indicating subscription status), hashedEmail (an identifier), name (first name), gender, and Age. Most variables are complete, though the Age column has two missing values. The played_hours data shows a high concentration of low values (50% of players have less than 0.1 hours), and some outliers with extremely high hours, which could influence model performance. The experience variable is unevenly distributed, with “Amateur” being the most common level. The data appears to have been collected via user registration and gameplay logs, and while self-reported experience offers useful insight, it may also introduce subjective bias."
   ]
  },
  {
   "cell_type": "markdown",
   "id": "0799f660-8da1-41b3-b54c-94f6412ffcfe",
   "metadata": {},
   "source": [
    "I used a k-Nearest Neighbors (KNN) regression model to explore whether played hours can predict a player's experience level, implemented using the tidymodels framework in R. This method was chosen because it is non-parametric and does not assume a linear relationship between variables, making it sufficient for detecting flexible, data-driven relationships. The analysis began with data cleaning, where we selected only the relevant variables—experience and played_hours—and converted the experience variable into an ordered factor with five levels, from Beginner to Pro. A corresponding numeric variable was also created to enable modeling. The dataset was then randomly split into a training set (75%) and a testing set (25%), stratified by the response variable to preserve its distribution across subsets. A preprocessing recipe was defined to scale and center the predictor variable, which is essential for distance-based algorithms like kNN. I specified a kNN model with a rectangular weight function and treated the number of neighbors (k) as a tunable hyperparameter. I also applied 5-fold cross-validation on the training set and compared models across a grid of possible k values to find the optimal value of k by using root mean squared error (RMSE) as the evaluation metric. The value of k that minimized RMSE was then used to finalize the model, which was trained on the full training set and evaluated on the testing set. The entire modeling process followed a structured pipeline using workflow() objects to ensure reproducibility and modularity."
   ]
  }
 ],
 "metadata": {
  "kernelspec": {
   "display_name": "R",
   "language": "R",
   "name": "ir"
  },
  "language_info": {
   "codemirror_mode": "r",
   "file_extension": ".r",
   "mimetype": "text/x-r-source",
   "name": "R",
   "pygments_lexer": "r",
   "version": "4.3.3"
  }
 },
 "nbformat": 4,
 "nbformat_minor": 5
}
